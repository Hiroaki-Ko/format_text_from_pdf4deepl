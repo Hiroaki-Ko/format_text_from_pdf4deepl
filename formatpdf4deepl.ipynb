{
  "nbformat": 4,
  "nbformat_minor": 0,
  "metadata": {
    "colab": {
      "provenance": [],
      "collapsed_sections": [],
      "toc_visible": true,
      "authorship_tag": "ABX9TyPu6+8XgJ1onw2NZqudrA5d",
      "include_colab_link": true
    },
    "kernelspec": {
      "name": "python3",
      "display_name": "Python 3"
    },
    "language_info": {
      "name": "python"
    }
  },
  "cells": [
    {
      "cell_type": "markdown",
      "metadata": {
        "id": "view-in-github",
        "colab_type": "text"
      },
      "source": [
        "<a href=\"https://colab.research.google.com/github/Hiroaki-Ko/format_text_from_pdf4deepl/blob/main/formatpdf4deepl.ipynb\" target=\"_parent\"><img src=\"https://colab.research.google.com/assets/colab-badge.svg\" alt=\"Open In Colab\"/></a>"
      ]
    },
    {
      "cell_type": "markdown",
      "source": [
        "# 本体"
      ],
      "metadata": {
        "id": "DIEOR6sE5jhR"
      }
    },
    {
      "cell_type": "code",
      "execution_count": null,
      "metadata": {
        "id": "WTqFFVLxqMYB"
      },
      "outputs": [],
      "source": [
        "import re #正規表現ライブラリのインポート"
      ]
    },
    {
      "cell_type": "code",
      "source": [
        "article = 'file.txt'"
      ],
      "metadata": {
        "id": "XJMGHV3LuOIG"
      },
      "execution_count": null,
      "outputs": []
    },
    {
      "cell_type": "code",
      "source": [
        "# print(text)の略\n",
        "def pt():\n",
        "  print(text)"
      ],
      "metadata": {
        "id": "cbUH__dPtSVe"
      },
      "execution_count": null,
      "outputs": []
    },
    {
      "cell_type": "code",
      "source": [
        "#ファイルを開いてテキストを取り出す関数\n",
        "def OpenAsText(filename):\n",
        "  with open(filename) as f: \n",
        "    t = f.read()\n",
        "    return t"
      ],
      "metadata": {
        "id": "HCDMAFSorCN9"
      },
      "execution_count": null,
      "outputs": []
    },
    {
      "cell_type": "code",
      "source": [
        "# 2行以上の空行をつくらない\n",
        "def MaxTwoEmptyLines(text):\n",
        "  t = re.sub(r'\\n{3,}', r'\\n\\n', text)\n",
        "  return t"
      ],
      "metadata": {
        "id": "DdsH8tW4ovKx"
      },
      "execution_count": null,
      "outputs": []
    },
    {
      "cell_type": "code",
      "source": [
        "# 引用ブロック後↩↩（）となる不調を直す\n",
        "def RefPlace(text):\n",
        "  t = re.sub(r'\\n\\n(\\([A-Z].+\\).*)', r' \\1\\n\\n', text)\n",
        "  u =MaxTwoEmptyLines(t)\n",
        "  return u"
      ],
      "metadata": {
        "id": "JY1O-6yaipv5"
      },
      "execution_count": null,
      "outputs": []
    },
    {
      "cell_type": "code",
      "source": [
        "# 脚注と本文の隣り合いを回避した\n",
        "def InsEmpNotes(text):\n",
        "  s = re.sub(r'(?<!\\n\\n)(?<=\\n)(\\d{1,3} .*\\n)', r'\\n\\n\\1', text) # 脚注と本文の隣り合いを回避\n",
        "  t = MaxTwoEmptyLines(s)\n",
        "  return t"
      ],
      "metadata": {
        "id": "C0cV-a7kDhhW"
      },
      "execution_count": null,
      "outputs": []
    },
    {
      "cell_type": "code",
      "source": [
        "# 脚注終わりの行の下に、空行を挿入して、段落を切断\n",
        "def InsEmpReturn(text):\n",
        "  t = re.sub(r'(\\.\\d+)(?=\\n)', r'\\1\\n', text)\n",
        "  u = MaxTwoEmptyLines(t)\n",
        "  return u"
      ],
      "metadata": {
        "id": "R2BsdYZJrrJ7"
      },
      "execution_count": null,
      "outputs": []
    },
    {
      "cell_type": "code",
      "source": [
        "# 章タイトルを消す\n",
        "def DeleteChapTitle(text):\n",
        "  t = re.sub(r'(OUP CORRECTED PROOF – FINAL, 18/11/2015, SPi|PREFACE|CONSCIOUSNESS IN THE SEVENTEENTH CENTURY|CONSCIOUSNESS IN LOCKE’S PHILOSOPHICAL PSYCHOLOGY|CONSCIOUSNESS IN LOCKE’S THEORY OF KNOWLEDGE|KNOWING OUR OWN IDEAS \\(AND OURSELVES\\)|KNOWING THE EXISTENCE OF PARTICULAR EXTERNAL OBJECTS|SENSITIVE KNOWLEDGE AND THE SKEPTICAL CHALLENGE|CONSCIOUSNESS IN LOCKE’S THEORY OF KNOWLEDGE|CONSCIOUSNESS IN LOCKE’S THEORY OF PERSONAL IDENTITY|CONSCIOUSNESS AND MORAL MOTIVATION)', '', text) \n",
        "  u = MaxTwoEmptyLines(t)\n",
        "  v = DisallowSpace(u)\n",
        "  return v"
      ],
      "metadata": {
        "id": "BB3OMvXFWYd3"
      },
      "execution_count": null,
      "outputs": []
    },
    {
      "cell_type": "code",
      "source": [
        "# ページ数を消す\n",
        "def DeletePage(text):\n",
        "  t = re.sub(r'[]', '', text) \n",
        "  u = MaxTwoEmptyLines(t)\n",
        "  v = DisallowSpace(u)\n",
        "  return v"
      ],
      "metadata": {
        "id": "x8Y719VGXWsK"
      },
      "execution_count": null,
      "outputs": []
    },
    {
      "cell_type": "code",
      "source": [
        "# 行頭スペースと連続スペースを許さない\n",
        "def DisallowSpace(text):\n",
        "  t = re.sub(r'(?<=\\n) +', r'', text)\n",
        "  u = re.sub(r' {2,}', r' ', t)\n",
        "  return u"
      ],
      "metadata": {
        "id": "DPGPbok_zr2p"
      },
      "execution_count": null,
      "outputs": []
    },
    {
      "cell_type": "code",
      "source": [
        "# 隣り合う行を連結\n",
        "def Paragraphize(text):\n",
        "  t = re.sub(r'(?<!\\n)\\n(.)', r' \\1', text)\n",
        "  return t"
      ],
      "metadata": {
        "id": "SJv3cUn6sGzo"
      },
      "execution_count": null,
      "outputs": []
    },
    {
      "cell_type": "code",
      "source": [
        "# \"- \"を消す\n",
        "def DeleteTempHyphen(text):\n",
        "  t = re.sub(r'- ', '', text)\n",
        "  return t"
      ],
      "metadata": {
        "id": "xFzpsPzpiuWa"
      },
      "execution_count": null,
      "outputs": []
    },
    {
      "cell_type": "code",
      "source": [
        "# :↩のあと、空行を空けて分離\n",
        "def DivColon(text):\n",
        "  t = re.sub(r':\\n', r':\\n\\n', text)\n",
        "  return t"
      ],
      "metadata": {
        "id": "pW1maWBHrZ4q"
      },
      "execution_count": null,
      "outputs": []
    },
    {
      "cell_type": "code",
      "source": [
        "text = OpenAsText(article)"
      ],
      "metadata": {
        "id": "33CyIWbmhdGW"
      },
      "execution_count": null,
      "outputs": []
    },
    {
      "cell_type": "code",
      "source": [
        "text = MaxTwoEmptyLines(text)"
      ],
      "metadata": {
        "id": "kuB2U-kvo5K1"
      },
      "execution_count": null,
      "outputs": []
    },
    {
      "cell_type": "code",
      "source": [
        "text_1 = MaxTwoEmptyLines(text)"
      ],
      "metadata": {
        "id": "GGGqG6Y2EccW"
      },
      "execution_count": null,
      "outputs": []
    },
    {
      "cell_type": "code",
      "source": [
        "text = RefPlace(text)"
      ],
      "metadata": {
        "id": "CDAirS6cmteX"
      },
      "execution_count": null,
      "outputs": []
    },
    {
      "cell_type": "code",
      "source": [
        "text = InsEmpNotes(text)"
      ],
      "metadata": {
        "id": "-IlOLjHdneSc"
      },
      "execution_count": null,
      "outputs": []
    },
    {
      "cell_type": "code",
      "source": [
        "text = InsEmpReturn(text)"
      ],
      "metadata": {
        "id": "n7iwCZZRtc0K"
      },
      "execution_count": null,
      "outputs": []
    },
    {
      "cell_type": "code",
      "source": [
        "text = DeleteChapTitle(text)"
      ],
      "metadata": {
        "id": "7BH9jvX0iCiH"
      },
      "execution_count": null,
      "outputs": []
    },
    {
      "cell_type": "code",
      "source": [
        "text = DeletePage(text)"
      ],
      "metadata": {
        "id": "s7mLz3JGiOfl"
      },
      "execution_count": null,
      "outputs": []
    },
    {
      "cell_type": "code",
      "source": [
        "text = Paragraphize(text)"
      ],
      "metadata": {
        "id": "ie5_qHj9tJf2"
      },
      "execution_count": null,
      "outputs": []
    },
    {
      "cell_type": "code",
      "source": [
        "text = DeleteTempHyphen(text)"
      ],
      "metadata": {
        "id": "Fkl7xh3wi9bQ"
      },
      "execution_count": null,
      "outputs": []
    },
    {
      "cell_type": "code",
      "source": [
        "#脚注を抽出する\n",
        "def TakeNotes(text):\n",
        "  u = re.findall(r'(?<=\\n)\\d{1,3} .*\\n', text)\n",
        "  v =''.join(u)\n",
        "  w = re.sub(r'(\\d+) ', r'\\n\\1 ', v)\n",
        "  return w"
      ],
      "metadata": {
        "id": "FFUBBCo1vnmO"
      },
      "execution_count": null,
      "outputs": []
    },
    {
      "cell_type": "code",
      "source": [
        "# 空行を潰す\n",
        "def OmitEmpty(text):\n",
        "  t = re.sub(r'\\n\\n', r'\\n', text)\n",
        "  return t"
      ],
      "metadata": {
        "id": "ftCtBHe5GVEj"
      },
      "execution_count": null,
      "outputs": []
    },
    {
      "cell_type": "code",
      "source": [
        "notes = InsEmpNotes(text_1)"
      ],
      "metadata": {
        "id": "pomBcAerELes"
      },
      "execution_count": null,
      "outputs": []
    },
    {
      "cell_type": "code",
      "source": [
        "notes = Paragraphize(notes)"
      ],
      "metadata": {
        "id": "m8xc_WQBwwtc"
      },
      "execution_count": null,
      "outputs": []
    },
    {
      "cell_type": "code",
      "source": [
        "notes = TakeNotes(notes)"
      ],
      "metadata": {
        "id": "YOfYF1rgEoLp"
      },
      "execution_count": null,
      "outputs": []
    },
    {
      "cell_type": "code",
      "source": [
        "notes = OmitEmpty(notes)"
      ],
      "metadata": {
        "id": "ShVC2RtzGlCL"
      },
      "execution_count": null,
      "outputs": []
    },
    {
      "cell_type": "code",
      "source": [
        "# 適したマークダウンの見出しをつける\n",
        "def Headiate(text):\n",
        "  third = re.sub(r'(?<=\\n)(\\d\\.[A-Z0-9]+\\.)', r'\\n\\n### \\1', text)\n",
        "  second_num = re.sub(r'(?<=\\n)(\\d\\.\\d.*\\n)', r'\\n\\n## \\1', third)\n",
        "  second_chara = re.sub(r'(PART)', r'\\n\\n## \\1', second_num)\n",
        "  first = re.sub(r'(?<=\\n)(\\d )', r'# \\1', second_chara)\n",
        "  t = MaxTwoEmptyLines(first)\n",
        "  return t"
      ],
      "metadata": {
        "id": "lBoUMWb_10ml"
      },
      "execution_count": null,
      "outputs": []
    },
    {
      "cell_type": "code",
      "source": [
        "Ref = text "
      ],
      "metadata": {
        "id": "xMd9h26lbHcd"
      },
      "execution_count": null,
      "outputs": []
    },
    {
      "cell_type": "code",
      "source": [
        "#脚注を取った残りを得る\n",
        "def OmitNotes(text):\n",
        "  t = re.sub(r'(?<=\\n)([0-9]{1,3}) .*\\n', r'', text)\n",
        "  u = MaxTwoEmptyLines(t)\n",
        "  return u"
      ],
      "metadata": {
        "id": "v4KTwhpGwv1b"
      },
      "execution_count": null,
      "outputs": []
    },
    {
      "cell_type": "code",
      "source": [
        "text = OmitNotes(text)"
      ],
      "metadata": {
        "id": "P0SIzuW1yWFj"
      },
      "execution_count": null,
      "outputs": []
    },
    {
      "cell_type": "code",
      "source": [
        "text = Headiate(text)"
      ],
      "metadata": {
        "id": "ZtkIibkNbPTR"
      },
      "execution_count": null,
      "outputs": []
    },
    {
      "cell_type": "markdown",
      "source": [
        "すると、`print(text)`で程よく成形されたテキストがコンソールに表示されます"
      ],
      "metadata": {
        "id": "1tyHgh8sotXD"
      }
    },
    {
      "cell_type": "markdown",
      "source": [
        "# テキストの書き込みと保存（未実装）"
      ],
      "metadata": {
        "id": "PInbFgk21rzi"
      }
    },
    {
      "cell_type": "code",
      "source": [
        "# text = ConnectLCs(text)"
      ],
      "metadata": {
        "id": "0QHAHnLg0Eu4"
      },
      "execution_count": null,
      "outputs": []
    },
    {
      "cell_type": "code",
      "source": [
        "# 小文字始まりの行を、前の段落につなげる\n",
        "def ConnectLCs(text):\n",
        "  #t = re.sub(r'\\n\\n +([A-Za-z\\.,“])', r' \\1', text)\n",
        "  u = re.sub(r'\\n\\n([a-z\\.,“])', r' \\1', text)\n",
        "  return u"
      ],
      "metadata": {
        "id": "cPwt7XyLyzCX"
      },
      "execution_count": null,
      "outputs": []
    },
    {
      "cell_type": "code",
      "source": [
        "#text = 'hoge'"
      ],
      "metadata": {
        "id": "x3oQJzCU25NX"
      },
      "execution_count": null,
      "outputs": []
    },
    {
      "cell_type": "code",
      "source": [
        "#with open(filename, mode = 'w') as f:\n",
        "#  f.write(text) #ファイル f の中身に、string text を書き込みして、閉じる"
      ],
      "metadata": {
        "id": "edw17DfIw_zz"
      },
      "execution_count": null,
      "outputs": []
    },
    {
      "cell_type": "code",
      "source": [
        "#with open(filename) as f:\n",
        "#  print(f.read())"
      ],
      "metadata": {
        "id": "oO6qXOgJyi-m"
      },
      "execution_count": null,
      "outputs": []
    },
    {
      "cell_type": "markdown",
      "source": [
        "# 参考ページ\n",
        "- [txtファイルをpythonで読み込む方法](https://www.javadrive.jp/python/file/index2.html#section5)\n",
        "- [txtファイルをpythonで編集する方法](https://gammasoft.jp/blog/text-file-edit-by-python/)\n",
        "- [pythonで正規表現を用いて文字列を抽出](https://note.nkmk.me/python-str-extract/)\n",
        "- [if, for, while 文](https://www.oit.ac.jp/is/shinkai/seminar/thesis/2011wakaiki/c/1_2.html)\n",
        "- [for ... in --- 構文](https://www.javadrive.jp/javascript/for/index8.html)"
      ],
      "metadata": {
        "id": "v-as67mszJwn"
      }
    }
  ]
}