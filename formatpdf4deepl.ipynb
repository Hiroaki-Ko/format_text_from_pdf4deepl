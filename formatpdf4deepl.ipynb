{
  "nbformat": 4,
  "nbformat_minor": 0,
  "metadata": {
    "colab": {
      "provenance": [],
      "collapsed_sections": [],
      "toc_visible": true,
      "authorship_tag": "ABX9TyPQLmc3u295JtT7I7K5OePX",
      "include_colab_link": true
    },
    "kernelspec": {
      "name": "python3",
      "display_name": "Python 3"
    },
    "language_info": {
      "name": "python"
    }
  },
  "cells": [
    {
      "cell_type": "markdown",
      "metadata": {
        "id": "view-in-github",
        "colab_type": "text"
      },
      "source": [
        "<a href=\"https://colab.research.google.com/github/Hiroaki-Ko/format_text_from_pdf4deepl/blob/main/formatpdf4deepl.ipynb\" target=\"_parent\"><img src=\"https://colab.research.google.com/assets/colab-badge.svg\" alt=\"Open In Colab\"/></a>"
      ]
    },
    {
      "cell_type": "markdown",
      "source": [
        "# 本体"
      ],
      "metadata": {
        "id": "DIEOR6sE5jhR"
      }
    },
    {
      "cell_type": "code",
      "execution_count": 406,
      "metadata": {
        "id": "WTqFFVLxqMYB"
      },
      "outputs": [],
      "source": [
        "import re #正規表現ライブラリのインポート"
      ]
    },
    {
      "cell_type": "code",
      "source": [
        "file_1 = 'Weinberg2016.txt'"
      ],
      "metadata": {
        "id": "XJMGHV3LuOIG"
      },
      "execution_count": 407,
      "outputs": []
    },
    {
      "cell_type": "code",
      "source": [
        "# print(text)の略\n",
        "def pt():\n",
        "  print(text)"
      ],
      "metadata": {
        "id": "cbUH__dPtSVe"
      },
      "execution_count": 409,
      "outputs": []
    },
    {
      "cell_type": "code",
      "source": [
        "#ファイルを開いてテキストを取り出す関数\n",
        "def OpenAsText(filename):\n",
        "  with open(filename) as f: \n",
        "    t = f.read()\n",
        "    return t"
      ],
      "metadata": {
        "id": "HCDMAFSorCN9"
      },
      "execution_count": 410,
      "outputs": []
    },
    {
      "cell_type": "code",
      "source": [
        "# 2行以上の空行をつくらない\n",
        "def MaxTwoEmptyLines(text):\n",
        "  t = re.sub(r'\\n{3,}', r'\\n\\n', text)\n",
        "  return t"
      ],
      "metadata": {
        "id": "DdsH8tW4ovKx"
      },
      "execution_count": 411,
      "outputs": []
    },
    {
      "cell_type": "code",
      "source": [
        "# 隣り合う行を連結\n",
        "def Paragraphize(text):\n",
        "  t = re.sub(r'(?<!\\n)\\n(.)', r' \\1', text)\n",
        "  return t"
      ],
      "metadata": {
        "id": "SJv3cUn6sGzo"
      },
      "execution_count": 412,
      "outputs": []
    },
    {
      "cell_type": "code",
      "source": [
        "# 引用ブロック後の（）の不調を直す\n",
        "def RefPlace(text):\n",
        "  t = re.sub(r'\\n\\n(\\([0-9A-Z].+\\)\\d+\\s)', ' \\1\\n\\n', text)\n",
        "  r = re.sub(r'\\n\\n(\\([0-9A-Z].+\\))', ' \\1\\n\\n', t)\n",
        "  return r"
      ],
      "metadata": {
        "id": "JY1O-6yaipv5"
      },
      "execution_count": 413,
      "outputs": []
    },
    {
      "cell_type": "code",
      "source": [
        "# 章タイトルを消す\n",
        "def DeleteChapTitle(text):\n",
        "  t = re.sub(r'(OUP CORRECTED PROOF – FINAL, 18/11/2015, SPi|PREFACE|CONSCIOUSNESS IN THE SEVENTEENTH CENTURY|CONSCIOUSNESS IN LOCKE’S PHILOSOPHICAL PSYCHOLOGY|CONSCIOUSNESS IN LOCKE’S THEORY OF KNOWLEDGE|KNOWING OUR OWN IDEAS \\(AND OURSELVES\\)|KNOWING THE EXISTENCE OF PARTICULAR EXTERNAL OBJECTS|SENSITIVE KNOWLEDGE AND THE SKEPTICAL CHALLENGE|CONSCIOUSNESS IN LOCKE’S THEORY OF KNOWLEDGE|CONSCIOUSNESS IN LOCKE’S THEORY OF PERSONAL IDENTITY|CONSCIOUSNESS AND MORAL MOTIVATION)', '', text) \n",
        "  u = MaxTwoEmptyLines(t)\n",
        "  return u"
      ],
      "metadata": {
        "id": "BB3OMvXFWYd3"
      },
      "execution_count": 414,
      "outputs": []
    },
    {
      "cell_type": "code",
      "source": [
        "# ページ数を消す\n",
        "def DeletePage(text):\n",
        "  t = re.sub(r'\\n(|||||||||)+ *', '', text) \n",
        "  u = MaxTwoEmptyLines(t)\n",
        "  return u"
      ],
      "metadata": {
        "id": "x8Y719VGXWsK"
      },
      "execution_count": 415,
      "outputs": []
    },
    {
      "cell_type": "code",
      "source": [
        "# \"- \"を消す\n",
        "def DeleteTempHyphen(text):\n",
        "  t = re.sub(r'- ', '', text)\n",
        "  return t"
      ],
      "metadata": {
        "id": "xFzpsPzpiuWa"
      },
      "execution_count": 416,
      "outputs": []
    },
    {
      "cell_type": "code",
      "source": [
        "# :↩のあと、空行を空けて分離\n",
        "def DivColon(text):\n",
        "  t = re.sub(r':\\n', r':\\n\\n', text)\n",
        "  return t"
      ],
      "metadata": {
        "id": "pW1maWBHrZ4q"
      },
      "execution_count": 417,
      "outputs": []
    },
    {
      "cell_type": "code",
      "source": [
        "text = OpenAsText(file_1)"
      ],
      "metadata": {
        "id": "33CyIWbmhdGW"
      },
      "execution_count": 418,
      "outputs": []
    },
    {
      "cell_type": "code",
      "source": [
        "text = MaxTwoEmptyLines(text)"
      ],
      "metadata": {
        "id": "kuB2U-kvo5K1"
      },
      "execution_count": 419,
      "outputs": []
    },
    {
      "cell_type": "code",
      "source": [
        "text = Paragraphize(text)"
      ],
      "metadata": {
        "id": "ie5_qHj9tJf2"
      },
      "execution_count": 420,
      "outputs": []
    },
    {
      "cell_type": "code",
      "source": [
        "text = RefPlace(text)"
      ],
      "metadata": {
        "id": "CDAirS6cmteX"
      },
      "execution_count": 421,
      "outputs": []
    },
    {
      "cell_type": "code",
      "source": [
        "text = DeleteChapTitle(text)"
      ],
      "metadata": {
        "id": "7BH9jvX0iCiH"
      },
      "execution_count": 422,
      "outputs": []
    },
    {
      "cell_type": "code",
      "source": [
        "text = DeletePage(text)"
      ],
      "metadata": {
        "id": "s7mLz3JGiOfl"
      },
      "execution_count": 423,
      "outputs": []
    },
    {
      "cell_type": "code",
      "source": [
        "text = DeleteTempHyphen(text)"
      ],
      "metadata": {
        "id": "Fkl7xh3wi9bQ"
      },
      "execution_count": 424,
      "outputs": []
    },
    {
      "cell_type": "code",
      "source": [
        "#脚注を抽出する\n",
        "def TakeNotes(text):\n",
        "  t = re.findall(r'(?<=\\n)\\d{1,3} .*\\n', text)\n",
        "  u =''.join(t)\n",
        "  v = re.sub(r'(\\d+) ', r'\\n\\1 ', u)\n",
        "  return v"
      ],
      "metadata": {
        "id": "FFUBBCo1vnmO"
      },
      "execution_count": 425,
      "outputs": []
    },
    {
      "cell_type": "code",
      "source": [
        "notes = TakeNotes(text)"
      ],
      "metadata": {
        "id": "m8xc_WQBwwtc"
      },
      "execution_count": 426,
      "outputs": []
    },
    {
      "cell_type": "code",
      "source": [
        "#脚注を取った残りを得る\n",
        "def OmitNotes(text):\n",
        "  t = re.sub(r'(?<=\\n)([0-9]{1,3}) .*\\n', r'', text)\n",
        "  u = MaxTwoEmptyLines(t)\n",
        "  return u"
      ],
      "metadata": {
        "id": "v4KTwhpGwv1b"
      },
      "execution_count": 427,
      "outputs": []
    },
    {
      "cell_type": "code",
      "source": [
        "# 小文字始まりの行を、前の段落につなげる\n",
        "def ConnectLCs(text):\n",
        "  t = re.sub(r'\\n\\n[ \\t\\f\\r]*([a-z\\.,:“])', r' \\1', text)\n",
        "  return t"
      ],
      "metadata": {
        "id": "cPwt7XyLyzCX"
      },
      "execution_count": 429,
      "outputs": []
    },
    {
      "cell_type": "code",
      "source": [
        "# 適したマークダウンの見出しをつける\n",
        "def Headiate(text):\n",
        "  third = re.sub(r'(?<=\\n)(\\d\\.[A-Z0-9]+\\.)', r'### \\1', text)\n",
        "  second_num = re.sub(r'(?<=\\n)(\\d\\.\\d)', r'## \\1', third)\n",
        "  second_chara = re.sub(r'(?<=\\n)(PART)', r'## \\1', second_num)\n",
        "  first = re.sub(r'(?<=\\n)(\\d )', r'# \\1', second_chara)\n",
        "  return first"
      ],
      "metadata": {
        "id": "lBoUMWb_10ml"
      },
      "execution_count": 431,
      "outputs": []
    },
    {
      "cell_type": "code",
      "source": [
        "text = OmitNotes(text)"
      ],
      "metadata": {
        "id": "P0SIzuW1yWFj"
      },
      "execution_count": 428,
      "outputs": []
    },
    {
      "cell_type": "code",
      "source": [
        "text = ConnectLCs(text)"
      ],
      "metadata": {
        "id": "0QHAHnLg0Eu4"
      },
      "execution_count": 430,
      "outputs": []
    },
    {
      "cell_type": "markdown",
      "source": [
        "# テキストの書き込みと保存"
      ],
      "metadata": {
        "id": "PInbFgk21rzi"
      }
    },
    {
      "cell_type": "code",
      "source": [
        "#text = 'hoge'"
      ],
      "metadata": {
        "id": "x3oQJzCU25NX"
      },
      "execution_count": null,
      "outputs": []
    },
    {
      "cell_type": "code",
      "source": [
        "#with open(filename, mode = 'w') as f:\n",
        "#  f.write(text) #ファイル f の中身に、string text を書き込みして、閉じる"
      ],
      "metadata": {
        "id": "edw17DfIw_zz"
      },
      "execution_count": null,
      "outputs": []
    },
    {
      "cell_type": "code",
      "source": [
        "#with open(filename) as f:\n",
        "#  print(f.read())"
      ],
      "metadata": {
        "id": "oO6qXOgJyi-m"
      },
      "execution_count": null,
      "outputs": []
    },
    {
      "cell_type": "markdown",
      "source": [
        "# 参考ページ\n",
        "- [txtファイルをpythonで読み込む方法](https://www.javadrive.jp/python/file/index2.html#section5)\n",
        "- [txtファイルをpythonで編集する方法](https://gammasoft.jp/blog/text-file-edit-by-python/)\n",
        "- [pythonで正規表現を用いて文字列を抽出](https://note.nkmk.me/python-str-extract/)\n",
        "- [if, for, while 文](https://www.oit.ac.jp/is/shinkai/seminar/thesis/2011wakaiki/c/1_2.html)\n",
        "- [for ... in --- 構文](https://www.javadrive.jp/javascript/for/index8.html)"
      ],
      "metadata": {
        "id": "v-as67mszJwn"
      }
    }
  ]
}